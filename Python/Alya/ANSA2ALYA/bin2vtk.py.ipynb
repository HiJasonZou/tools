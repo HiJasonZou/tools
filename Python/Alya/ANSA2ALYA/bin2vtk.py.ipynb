{
 "cells": [
  {
   "cell_type": "code",
   "execution_count": 215,
   "metadata": {},
   "outputs": [],
   "source": [
    "import vtk\n",
    "import json\n",
    "import numpy as np\n",
    "import pandas as pd\n",
    "import progressbar\n",
    "import sys\n",
    "\n",
    "#need python 3.6 or newer, mostly because ints are now 64bit\n",
    "assert sys.version_info >= (3, 6)"
   ]
  },
  {
   "cell_type": "code",
   "execution_count": 163,
   "metadata": {},
   "outputs": [],
   "source": [
    "meshname = 'cylinder'\n",
    "nodes_name = 'nodes'\n",
    "ext = '.bin'"
   ]
  },
  {
   "cell_type": "code",
   "execution_count": 164,
   "metadata": {},
   "outputs": [],
   "source": [
    "with open(meshname+'.json','r') as file:\n",
    "    info = json.load(file)"
   ]
  },
  {
   "cell_type": "code",
   "execution_count": 165,
   "metadata": {},
   "outputs": [
    {
     "name": "stdout",
     "output_type": "stream",
     "text": [
      "Nodes\n"
     ]
    },
    {
     "data": {
      "text/html": [
       "<div>\n",
       "<style scoped>\n",
       "    .dataframe tbody tr th:only-of-type {\n",
       "        vertical-align: middle;\n",
       "    }\n",
       "\n",
       "    .dataframe tbody tr th {\n",
       "        vertical-align: top;\n",
       "    }\n",
       "\n",
       "    .dataframe thead th {\n",
       "        text-align: right;\n",
       "    }\n",
       "</style>\n",
       "<table border=\"1\" class=\"dataframe\">\n",
       "  <thead>\n",
       "    <tr style=\"text-align: right;\">\n",
       "      <th></th>\n",
       "      <th>x</th>\n",
       "      <th>y</th>\n",
       "      <th>z</th>\n",
       "    </tr>\n",
       "    <tr>\n",
       "      <th>id</th>\n",
       "      <th></th>\n",
       "      <th></th>\n",
       "      <th></th>\n",
       "    </tr>\n",
       "  </thead>\n",
       "  <tbody>\n",
       "    <tr>\n",
       "      <th>1</th>\n",
       "      <td>-0.831470</td>\n",
       "      <td>-5.555702e-01</td>\n",
       "      <td>0.000000</td>\n",
       "    </tr>\n",
       "    <tr>\n",
       "      <th>2</th>\n",
       "      <td>-0.707107</td>\n",
       "      <td>-7.071068e-01</td>\n",
       "      <td>0.000000</td>\n",
       "    </tr>\n",
       "    <tr>\n",
       "      <th>3</th>\n",
       "      <td>-0.706908</td>\n",
       "      <td>-7.073059e-01</td>\n",
       "      <td>0.199966</td>\n",
       "    </tr>\n",
       "    <tr>\n",
       "      <th>4</th>\n",
       "      <td>-0.831338</td>\n",
       "      <td>-5.557664e-01</td>\n",
       "      <td>0.200110</td>\n",
       "    </tr>\n",
       "    <tr>\n",
       "      <th>5</th>\n",
       "      <td>-1.000000</td>\n",
       "      <td>-1.224647e-16</td>\n",
       "      <td>0.000000</td>\n",
       "    </tr>\n",
       "  </tbody>\n",
       "</table>\n",
       "</div>"
      ],
      "text/plain": [
       "           x             y         z\n",
       "id                                  \n",
       "1  -0.831470 -5.555702e-01  0.000000\n",
       "2  -0.707107 -7.071068e-01  0.000000\n",
       "3  -0.706908 -7.073059e-01  0.199966\n",
       "4  -0.831338 -5.557664e-01  0.200110\n",
       "5  -1.000000 -1.224647e-16  0.000000"
      ]
     },
     "execution_count": 165,
     "metadata": {},
     "output_type": "execute_result"
    }
   ],
   "source": [
    "#read nodes\n",
    "nodesfilename = meshname+\"_\"+nodes_name+ext\n",
    "nodes_df = None\n",
    "with open(nodesfilename, 'rb') as f:\n",
    "    header = f.read(255)\n",
    "    data = np.fromfile(f, dtype=np.dtype([('id', np.uint64), ('x', np.float64), ('y', np.float64), ('z', np.float64)]))\n",
    "    nodes_df = pd.DataFrame(data, columns=data.dtype.names)\n",
    "    nodes_df = nodes_df.set_index('id')\n",
    "    data = None\n",
    "    \n",
    "print('Nodes')\n",
    "nodes_df.head()"
   ]
  },
  {
   "cell_type": "code",
   "execution_count": null,
   "metadata": {},
   "outputs": [],
   "source": []
  },
  {
   "cell_type": "code",
   "execution_count": 166,
   "metadata": {},
   "outputs": [],
   "source": []
  },
  {
   "cell_type": "code",
   "execution_count": 167,
   "metadata": {},
   "outputs": [],
   "source": [
    "def ReadVolumeCellBIN( filename, ncells, nodemask ):\n",
    "        \n",
    "    print('Reading ', filename)\n",
    "    with open(filename, 'rb') as f:\n",
    "        header = f.read(255)\n",
    "        data = np.fromfile(f, dtype=np.uint64 ) #id, nnodes\n",
    "\n",
    "        \n",
    "    \n",
    "    cell_count : int = 0\n",
    "    data_count : int = 0\n",
    "    data_pp_ids = np.empty(shape=(ncells,), dtype=np.uint64)\n",
    "    data_pp_nodes = np.empty(shape=(ncells,), dtype=object)\n",
    "    print('Processing ncells = ', ncells)\n",
    "    while cell_count<ncells:\n",
    "        n :int = int( data[data_count+1] )\n",
    "        #cell_id : int = int( data[cell_count] )\n",
    "        #print(cell_count + n)\n",
    "        #node_ids = data[(cell_count + 2):(cell_count + 2 + n)]\n",
    "        data_pp_ids[cell_count] = data[data_count]\n",
    "        data_pp_nodes[cell_count] = data[(data_count + 2):(data_count + 2 + n)] \n",
    "\n",
    "        nodemask[ data_pp_nodes[cell_count]  ] = 1\n",
    "\n",
    "        data_count += 2+n\n",
    "        cell_count += 1\n",
    "        \n",
    "    \n",
    "    return pd.DataFrame({'nodes':data_pp_nodes}, index=data_pp_ids)\n",
    "\n",
    "\n",
    "def ReadBoundaryCellBIN( filename, ncells ):\n",
    "        \n",
    "    print('Reading ', filename)\n",
    "    with open(filename, 'rb') as f:\n",
    "        header = f.read(255)\n",
    "        data = np.fromfile(f, dtype=np.uint64 ) #id, nnodes\n",
    "\n",
    "    cell_count : int = 0\n",
    "    data_count : int = 0\n",
    "    data_pp_ids = np.empty(shape=(ncells,), dtype=np.uint64)\n",
    "    data_pp_volume_ids = np.empty(shape=(ncells,), dtype=np.uint64)\n",
    "    data_pp_nodes = np.empty(shape=(ncells,), dtype=object)\n",
    "    print('Processing ncells = ', ncells)\n",
    "    while cell_count<ncells:\n",
    "        data_pp_ids[cell_count] = data[data_count]\n",
    "        data_pp_volume_ids [cell_count] = data[data_count+1] #reference to the volume mesh cell\n",
    "        n :int = int( data[data_count+2] )\n",
    "\n",
    "        data_pp_nodes[cell_count] = data[(data_count + 3):(data_count + 3 + n)] \n",
    "        data_count += 3+n\n",
    "        cell_count += 1\n",
    "    \n",
    "    return pd.DataFrame({'nodes':data_pp_nodes, 'volumeCellId':data_pp_volume_ids}, index=data_pp_ids)"
   ]
  },
  {
   "cell_type": "code",
   "execution_count": 168,
   "metadata": {},
   "outputs": [
    {
     "name": "stdout",
     "output_type": "stream",
     "text": [
      "Reading  cylinder_layers.bin\n",
      "Processing ncells =  1600\n",
      "Reading  cylinder_interior.bin\n",
      "Processing ncells =  13087\n",
      "[{'Name': 'layers', 'Id': 1}, {'Name': 'interior', 'Id': 2}]\n",
      "                                                 nodes  solidID  newCellId\n",
      "1241      [369, 346, 363, 386, 1391, 1368, 1385, 1408]        1          1\n",
      "1242  [1391, 1368, 1385, 1408, 2223, 2200, 2217, 2240]        1          2\n",
      "1243      [385, 368, 355, 372, 1407, 1390, 1377, 1394]        1          3\n",
      "1244  [1407, 1390, 1377, 1394, 2239, 2222, 2209, 2226]        1          4\n",
      "1245      [384, 371, 354, 367, 1406, 1393, 1376, 1389]        1          5\n",
      "           x             y         z  newPointId\n",
      "id                                              \n",
      "1  -0.831470 -5.555702e-01  0.000000           1\n",
      "2  -0.707107 -7.071068e-01  0.000000           2\n",
      "3  -0.706908 -7.073059e-01  0.199966           3\n",
      "4  -0.831338 -5.557664e-01  0.200110           4\n",
      "5  -1.000000 -1.224647e-16  0.000000           5\n"
     ]
    }
   ],
   "source": [
    "#read solid cells\n",
    "cells_df = pd.DataFrame()\n",
    "\n",
    "#mask to see which nodes are used\n",
    "#all ids start with 1, ignore the nodemask[0]\n",
    "nodemask = np.zeros( int(nodes_df.index.max())+1, dtype=np.int8 )\n",
    "\n",
    "material_names = []\n",
    "\n",
    "for solid_idx, solid_info in enumerate( info['Solids'] ):\n",
    "    filename = meshname + '_' + solid_info['Name'] + ext\n",
    "    ncells = solid_info['NCells']\n",
    "    \n",
    "    df = ReadVolumeCellBIN( filename, ncells, nodemask )\n",
    "    \n",
    "    df['solidID'] = solid_idx+1\n",
    "    cells_df = cells_df.append(df)\n",
    "    material_names.append( {'Name':solid_info['Name'], 'Id':solid_idx+1 } )\n",
    "\n",
    "#free memory\n",
    "df = None\n",
    "\n",
    "\n",
    "print(material_names)\n",
    "\n",
    "#create new id for solid cells\n",
    "cells_df['newCellId'] = np.arange(1,cells_df.shape[0]+1,dtype=np.uint64)\n",
    "print( cells_df.head() )\n",
    "\n",
    "#leave only used nodes and create new ids\n",
    "nodes_df = nodes_df.loc[ np.where(nodemask>0)[0] ]\n",
    "nodemask = None\n",
    "nodes_df['newPointId'] = np.arange(1,nodes_df.shape[0]+1,dtype=np.uint64)\n",
    "\n",
    "print( nodes_df.head() )"
   ]
  },
  {
   "cell_type": "code",
   "execution_count": 169,
   "metadata": {},
   "outputs": [
    {
     "name": "stdout",
     "output_type": "stream",
     "text": [
      "Reading  cylinder_ext_surf.bin\n",
      "Processing ncells =  800\n",
      "Reading  cylinder_inlet.bin\n",
      "Processing ncells =  276\n",
      "Reading  cylinder_outlet.bin\n",
      "Processing ncells =  278\n",
      "[{'Name': 'ext_surf', 'Id': 1}, {'Name': 'inlet', 'Id': 2}, {'Name': 'outlet', 'Id': 3}]\n"
     ]
    },
    {
     "data": {
      "text/html": [
       "<div>\n",
       "<style scoped>\n",
       "    .dataframe tbody tr th:only-of-type {\n",
       "        vertical-align: middle;\n",
       "    }\n",
       "\n",
       "    .dataframe tbody tr th {\n",
       "        vertical-align: top;\n",
       "    }\n",
       "\n",
       "    .dataframe thead th {\n",
       "        text-align: right;\n",
       "    }\n",
       "</style>\n",
       "<table border=\"1\" class=\"dataframe\">\n",
       "  <thead>\n",
       "    <tr style=\"text-align: right;\">\n",
       "      <th></th>\n",
       "      <th>nodes</th>\n",
       "      <th>volumeCellId</th>\n",
       "      <th>boundaryID</th>\n",
       "      <th>newFaceId</th>\n",
       "    </tr>\n",
       "  </thead>\n",
       "  <tbody>\n",
       "    <tr>\n",
       "      <th>491</th>\n",
       "      <td>[527, 528, 23, 5]</td>\n",
       "      <td>2041</td>\n",
       "      <td>1</td>\n",
       "      <td>1</td>\n",
       "    </tr>\n",
       "    <tr>\n",
       "      <th>492</th>\n",
       "      <td>[23, 528, 529, 35]</td>\n",
       "      <td>2043</td>\n",
       "      <td>1</td>\n",
       "      <td>2</td>\n",
       "    </tr>\n",
       "    <tr>\n",
       "      <th>493</th>\n",
       "      <td>[530, 531, 528, 527]</td>\n",
       "      <td>2045</td>\n",
       "      <td>1</td>\n",
       "      <td>3</td>\n",
       "    </tr>\n",
       "    <tr>\n",
       "      <th>494</th>\n",
       "      <td>[35, 529, 532, 45]</td>\n",
       "      <td>2047</td>\n",
       "      <td>1</td>\n",
       "      <td>4</td>\n",
       "    </tr>\n",
       "    <tr>\n",
       "      <th>495</th>\n",
       "      <td>[531, 533, 529, 528]</td>\n",
       "      <td>2049</td>\n",
       "      <td>1</td>\n",
       "      <td>5</td>\n",
       "    </tr>\n",
       "  </tbody>\n",
       "</table>\n",
       "</div>"
      ],
      "text/plain": [
       "                    nodes  volumeCellId  boundaryID  newFaceId\n",
       "491     [527, 528, 23, 5]          2041           1          1\n",
       "492    [23, 528, 529, 35]          2043           1          2\n",
       "493  [530, 531, 528, 527]          2045           1          3\n",
       "494    [35, 529, 532, 45]          2047           1          4\n",
       "495  [531, 533, 529, 528]          2049           1          5"
      ]
     },
     "execution_count": 169,
     "metadata": {},
     "output_type": "execute_result"
    }
   ],
   "source": [
    "#read boundaries\n",
    "\n",
    "bound_df = pd.DataFrame()\n",
    "\n",
    "boundary_names = []\n",
    "\n",
    "for boundary_idx, boundary_info in enumerate( info['Boundaries'] ):\n",
    "    filename = meshname + '_' + boundary_info['Name'] + ext\n",
    "    ncells = boundary_info['NCells']\n",
    "    \n",
    "    df = ReadBoundaryCellBIN( filename, ncells )\n",
    "    df['boundaryID'] = boundary_idx+1\n",
    "    bound_df = bound_df.append(df)\n",
    "\n",
    "    boundary_names.append( {'Name':boundary_info['Name'], 'Id':boundary_idx+1 } )\n",
    "    \n",
    "\n",
    "    \n",
    "#free memory\n",
    "df = None\n",
    "\n",
    "print(boundary_names)\n",
    "\n",
    "bound_df['newFaceId'] = np.arange(1,bound_df.shape[0]+1,dtype=np.uint64)\n",
    "bound_df.head()\n"
   ]
  },
  {
   "cell_type": "code",
   "execution_count": 188,
   "metadata": {},
   "outputs": [],
   "source": [
    "#renumber the nodes in the cells\n",
    "cells_df['nodes'] = cells_df['nodes'].apply( lambda x: [ nodes_df.loc[i,'newPointId'] for i in x] )\n",
    "bound_df['nodes'] = bound_df['nodes'].apply( lambda x: [ nodes_df.loc[i,'newPointId'] for i in x] )"
   ]
  },
  {
   "cell_type": "code",
   "execution_count": 193,
   "metadata": {},
   "outputs": [
    {
     "data": {
      "text/html": [
       "<div>\n",
       "<style scoped>\n",
       "    .dataframe tbody tr th:only-of-type {\n",
       "        vertical-align: middle;\n",
       "    }\n",
       "\n",
       "    .dataframe tbody tr th {\n",
       "        vertical-align: top;\n",
       "    }\n",
       "\n",
       "    .dataframe thead th {\n",
       "        text-align: right;\n",
       "    }\n",
       "</style>\n",
       "<table border=\"1\" class=\"dataframe\">\n",
       "  <thead>\n",
       "    <tr style=\"text-align: right;\">\n",
       "      <th></th>\n",
       "      <th>nodes</th>\n",
       "      <th>volumeCellId</th>\n",
       "      <th>boundaryID</th>\n",
       "      <th>newFaceId</th>\n",
       "    </tr>\n",
       "  </thead>\n",
       "  <tbody>\n",
       "    <tr>\n",
       "      <th>491</th>\n",
       "      <td>[527, 528, 23, 5]</td>\n",
       "      <td>801</td>\n",
       "      <td>1</td>\n",
       "      <td>1</td>\n",
       "    </tr>\n",
       "    <tr>\n",
       "      <th>492</th>\n",
       "      <td>[23, 528, 529, 35]</td>\n",
       "      <td>803</td>\n",
       "      <td>1</td>\n",
       "      <td>2</td>\n",
       "    </tr>\n",
       "    <tr>\n",
       "      <th>493</th>\n",
       "      <td>[530, 531, 528, 527]</td>\n",
       "      <td>805</td>\n",
       "      <td>1</td>\n",
       "      <td>3</td>\n",
       "    </tr>\n",
       "    <tr>\n",
       "      <th>494</th>\n",
       "      <td>[35, 529, 532, 45]</td>\n",
       "      <td>807</td>\n",
       "      <td>1</td>\n",
       "      <td>4</td>\n",
       "    </tr>\n",
       "    <tr>\n",
       "      <th>495</th>\n",
       "      <td>[531, 533, 529, 528]</td>\n",
       "      <td>809</td>\n",
       "      <td>1</td>\n",
       "      <td>5</td>\n",
       "    </tr>\n",
       "  </tbody>\n",
       "</table>\n",
       "</div>"
      ],
      "text/plain": [
       "                    nodes  volumeCellId  boundaryID  newFaceId\n",
       "491     [527, 528, 23, 5]           801           1          1\n",
       "492    [23, 528, 529, 35]           803           1          2\n",
       "493  [530, 531, 528, 527]           805           1          3\n",
       "494    [35, 529, 532, 45]           807           1          4\n",
       "495  [531, 533, 529, 528]           809           1          5"
      ]
     },
     "execution_count": 193,
     "metadata": {},
     "output_type": "execute_result"
    }
   ],
   "source": [
    "#renumber the volume_cell_ids in the boundary cells\n",
    "bound_df['volumeCellId'] = bound_df['volumeCellId'].apply( lambda x: cells_df.loc[x,'newCellId'] ) \n",
    "bound_df.head()10"
   ]
  },
  {
   "cell_type": "code",
   "execution_count": 229,
   "metadata": {},
   "outputs": [
    {
     "name": "stdout",
     "output_type": "stream",
     "text": [
      "Extracting points\n"
     ]
    },
    {
     "name": "stderr",
     "output_type": "stream",
     "text": [
      "100% (4523 of 4523) |####################| Elapsed Time: 0:00:00 ETA:  00:00:00\n"
     ]
    },
    {
     "name": "stdout",
     "output_type": "stream",
     "text": [
      "Extracting volume cells\n"
     ]
    },
    {
     "name": "stderr",
     "output_type": "stream",
     "text": [
      "100% (14687 of 14687) |##################| Elapsed Time: 0:00:00 Time:  0:00:00\n"
     ]
    },
    {
     "name": "stdout",
     "output_type": "stream",
     "text": [
      "Writing vtk unstructured grid\n",
      "Extracting boundary faces\n"
     ]
    },
    {
     "name": "stderr",
     "output_type": "stream",
     "text": [
      "100% (1354 of 1354) |####################| Elapsed Time: 0:00:00 Time:  0:00:00\n"
     ]
    },
    {
     "name": "stdout",
     "output_type": "stream",
     "text": [
      "Writing boundary vtk\n"
     ]
    },
    {
     "data": {
      "text/plain": [
       "1"
      ]
     },
     "execution_count": 229,
     "metadata": {},
     "output_type": "execute_result"
    }
   ],
   "source": [
    "\n",
    "# ====================================\n",
    "#\n",
    "#          save points\n",
    "#\n",
    "# ====================================\n",
    "nodes_df.sort_values(by='newPointId', ascending=True, inplace=True)\n",
    "\n",
    "pts = vtk.vtkPoints()\n",
    "print('Extracting points', flush=True)\n",
    "with progressbar.ProgressBar(max_value=nodes_df.shape[0]) as bar:\n",
    "    for idx, row in enumerate(nodes_df.itertuples(index=False, name='Pandas')):\n",
    "        pts.InsertNextPoint( getattr(row, \"x\"), getattr(row, \"y\"), getattr(row, \"z\"))\n",
    "    \n",
    "# ====================================\n",
    "#\n",
    "#          save volume cells\n",
    "#\n",
    "# ====================================\n",
    "cells_df.sort_values(by='newCellId', ascending=True, inplace=True)\n",
    "\n",
    "#number of nodes : type\n",
    "vtkcelltypes = {4:vtk.VTK_TETRA, 5:vtk.VTK_PYRAMID, 6:vtk.VTK_WEDGE, 8:vtk.VTK_HEXAHEDRON}\n",
    "#vtkfacetypes = {3:vtk.VTK_TRIANGLE, 4:vtk.VTK_QUAD}\n",
    "\n",
    "\n",
    "\n",
    "cells = vtk.vtkCellArray()\n",
    "celltypes = np.zeros(cells_df.shape[0], dtype=np.uint64)\n",
    "\n",
    "material_id = vtk.vtkShortArray()\n",
    "material_id.SetName('Material')\n",
    "material_id.SetNumberOfComponents(1)\n",
    "material_id.SetNumberOfTuples(cells_df.shape[0])\n",
    "\n",
    "print('Extracting volume cells', flush=True)\n",
    "with progressbar.ProgressBar(max_value=cells_df.shape[0]) as bar:\n",
    "    for idx, row in enumerate(cells_df.itertuples(index=False, name='Pandas')):\n",
    "        nodes = getattr(row, \"nodes\")\n",
    "        cells.InsertNextCell( len(nodes) )\n",
    "        for node in nodes:\n",
    "            cells.InsertCellPoint( int(node)-1 )\n",
    "\n",
    "        celltypes[idx] = vtkcelltypes[len(nodes)]\n",
    "        material_id.SetTuple1(idx,  int(getattr(row, \"solidID\")) )\n",
    "        bar.update(idx)\n",
    "\n",
    "ug = vtk.vtkUnstructuredGrid()\n",
    "ug.SetPoints(pts)\n",
    "ug.SetCells(celltypes, vol_cells)\n",
    "ug.GetCellData().AddArray(material_id)\n",
    "\n",
    "print('Writing vtk unstructured grid')\n",
    "wr = vtk.vtkDataSetWriter()\n",
    "wr.SetFileName('ug.vtk')\n",
    "wr.SetInputData(ug)\n",
    "wr.Write()\n",
    "\n",
    "# ====================================\n",
    "#\n",
    "#        process the boundary\n",
    "#\n",
    "# ================================\n",
    "bound_df.sort_values(by='newFaceId', ascending=True, inplace=True)\n",
    "\n",
    "boundary_id = vtk.vtkShortArray()\n",
    "boundary_id.SetName('BoundaryId')\n",
    "boundary_id.SetNumberOfComponents(1)\n",
    "boundary_id.SetNumberOfTuples(bound_df.shape[0])\n",
    "\n",
    "vol_cell_id = vtk.vtkShortArray()\n",
    "vol_cell_id.SetName('VolCellId')\n",
    "vol_cell_id.SetNumberOfComponents(1)\n",
    "vol_cell_id.SetNumberOfTuples(bound_df.shape[0])\n",
    "\n",
    "cells = vtk.vtkCellArray()\n",
    "#celltypes = np.zeros(bound_df.shape[0], dtype=np.uint64)\n",
    "\n",
    "print('Extracting boundary faces', flush=True)\n",
    "with progressbar.ProgressBar(max_value=bound_df.shape[0]) as bar:\n",
    "    for idx, row in enumerate(bound_df.itertuples(index=False, name='Pandas')):\n",
    "        nodes = getattr(row, \"nodes\")\n",
    "        cells.InsertNextCell( len(nodes) )\n",
    "        for node in nodes:\n",
    "            cells.InsertCellPoint( int(node)-1 )\n",
    "\n",
    "#        celltypes[idx] = vtkfacetypes[len(nodes)]\n",
    "        boundary_id.SetTuple1(idx,  int(getattr(row, \"boundaryID\")) )\n",
    "        vol_cell_id.SetTuple1(idx,  int(getattr(row, \"volumeCellId\"))-1 ) #correct for VTK numbering from 0\n",
    "        bar.update(idx)\n",
    "\n",
    "pd = vtk.vtkPolyData()\n",
    "pd.SetPoints(pts)\n",
    "pd.SetPolys(cells)\n",
    "pd.GetCellData().AddArray(boundary_id)\n",
    "pd.GetCellData().AddArray(vol_cell_id)\n",
    "\n",
    "print('Writing boundary vtk')\n",
    "wr = vtk.vtkPolyDataWriter()\n",
    "wr.SetFileName('boundary.vtk')\n",
    "wr.SetInputData(pd)\n",
    "wr.Write()"
   ]
  },
  {
   "cell_type": "code",
   "execution_count": 206,
   "metadata": {},
   "outputs": [
    {
     "data": {
      "text/plain": [
       "x   -0.83147\n",
       "y   -0.55557\n",
       "z    0.00000\n",
       "Name: 1, dtype: float64"
      ]
     },
     "execution_count": 206,
     "metadata": {},
     "output_type": "execute_result"
    }
   ],
   "source": [
    "nodes_df.iloc[0,0:3]"
   ]
  },
  {
   "cell_type": "code",
   "execution_count": null,
   "metadata": {},
   "outputs": [],
   "source": []
  }
 ],
 "metadata": {
  "kernelspec": {
   "display_name": "Python 3",
   "language": "python",
   "name": "python3"
  },
  "language_info": {
   "codemirror_mode": {
    "name": "ipython",
    "version": 3
   },
   "file_extension": ".py",
   "mimetype": "text/x-python",
   "name": "python",
   "nbconvert_exporter": "python",
   "pygments_lexer": "ipython3",
   "version": "3.6.8"
  }
 },
 "nbformat": 4,
 "nbformat_minor": 2
}
