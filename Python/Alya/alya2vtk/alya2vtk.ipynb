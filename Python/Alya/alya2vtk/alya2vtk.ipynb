{
 "cells": [
  {
   "cell_type": "code",
   "execution_count": 1,
   "metadata": {},
   "outputs": [],
   "source": [
    "import vtk\n",
    "import numpy as np\n",
    "import os\n",
    "import progressbar\n",
    "import pandas"
   ]
  },
  {
   "cell_type": "code",
   "execution_count": 14,
   "metadata": {},
   "outputs": [],
   "source": [
    "single_file = 'fensap.dom.geo'\n",
    "elemtype_file = 'fluidda.elem.type'\n",
    "coords_file = 'fluidda.coord'\n",
    "elem_file = 'fluidda.elem'\n",
    "boundary_file = 'fluidda.boundary'\n",
    "boundary_label_file = 'fensap.fix.dat'\n",
    "\n",
    "vtk_boundary_file = 'boundary.vtk'\n",
    "vtk_volmesh_file = 'volmesh.vtk'"
   ]
  },
  {
   "cell_type": "code",
   "execution_count": 18,
   "metadata": {},
   "outputs": [],
   "source": [
    "split_geometryfile = True\n",
    "\n"
   ]
  },
  {
   "cell_type": "code",
   "execution_count": 22,
   "metadata": {},
   "outputs": [
    {
     "name": "stderr",
     "output_type": "stream",
     "text": [
      "  7% (5055388 of 66562151) |             | Elapsed Time: 0:00:00 ETA:   0:00:02"
     ]
    },
    {
     "name": "stdout",
     "output_type": "stream",
     "text": [
      "Found types\n"
     ]
    },
    {
     "name": "stderr",
     "output_type": "stream",
     "text": [
      " 39% (26119364 of 66562151) |####        | Elapsed Time: 0:00:00 ETA:   0:00:01"
     ]
    },
    {
     "name": "stdout",
     "output_type": "stream",
     "text": [
      "Found elements\n"
     ]
    },
    {
     "name": "stderr",
     "output_type": "stream",
     "text": [
      " 93% (62349370 of 66562151) |########### | Elapsed Time: 0:00:01 ETA:   0:00:00"
     ]
    },
    {
     "name": "stdout",
     "output_type": "stream",
     "text": [
      "Found coordinates\n",
      "Found boundary\n"
     ]
    },
    {
     "name": "stderr",
     "output_type": "stream",
     "text": [
      "100% (66562151 of 66562151) |############| Elapsed Time: 0:00:01 Time:  0:00:01\n"
     ]
    }
   ],
   "source": [
    "def ExtractData(f, filename, pb):\n",
    "    with open(filename,'w') as fout:\n",
    "        while True:\n",
    "            line=f.readline()\n",
    "            if not line: break\n",
    "            if 'END_' in line: break\n",
    "            fout.write(' '.join(line.split())+'\\n')\n",
    "            pb.update(bar.value+len(line))\n",
    "    \n",
    "\n",
    "if split_geometryfile:   \n",
    "    #for the progressbar\n",
    "    statinfo = os.stat(single_file)\n",
    "    filesize = statinfo.st_size   \n",
    "    \n",
    "    with progressbar.ProgressBar(max_value=filesize) as bar:\n",
    "        with open(single_file, 'r') as f:\n",
    "            while True:\n",
    "                line=f.readline()\n",
    "                if not line: break\n",
    "                bar.update(bar.value+len(line))\n",
    "\n",
    "                line_start = line.strip()[0:5].upper()\n",
    "                if line_start == 'TYPES':\n",
    "                    print('Found types')\n",
    "                    ExtractData(f, elemtype_file, bar)\n",
    "                elif  line_start == 'ELEME':\n",
    "                    print('Found elements')\n",
    "                    ExtractData(f, elem_file, bar)\n",
    "                elif  line_start == 'COORD': \n",
    "                    print('Found coordinates')\n",
    "                    ExtractData(f, coords_file, bar)\n",
    "                elif  line_start == 'BOUND':\n",
    "                    print('Found boundary')\n",
    "                    ExtractData(f, boundary_file, bar)\n",
    "            \n",
    "            \n",
    "    "
   ]
  },
  {
   "cell_type": "code",
   "execution_count": 8,
   "metadata": {},
   "outputs": [],
   "source": [
    "#save boundary to vtk\n",
    "print('Reading coordinates')\n",
    "coords = pandas.read_csv(coords_file, header=None, delim_whitespace=True)\n",
    "print('Reading boundary codes')\n",
    "codes = pandas.read_csv(boundary_label_file, header=None, delim_whitespace=True)"
   ]
  },
  {
   "cell_type": "code",
   "execution_count": 9,
   "metadata": {},
   "outputs": [
    {
     "name": "stderr",
     "output_type": "stream",
     "text": [
      "100% (115333 of 115333) |################| Elapsed Time: 0:00:00 Time:  0:00:00\n"
     ]
    }
   ],
   "source": [
    "print('Passing coordinates to vtk')\n",
    "\n",
    "pts = vtk.vtkPoints()\n",
    "pts.SetNumberOfPoints(coords.shape[0])\n",
    "\n",
    "vv = coords.values\n",
    "\n",
    "for i in progressbar.progressbar(range(coords.shape[0])):\n",
    "    pts.SetPoint(i, vv[i,1:])\n",
    "    \n"
   ]
  },
  {
   "cell_type": "code",
   "execution_count": 25,
   "metadata": {},
   "outputs": [],
   "source": [
    "print('Passing boundaries to vtk')\n",
    "\n",
    "boundaries = vtk.vtkCellArray()\n",
    "\n",
    "with open(boundary_file,'r') as f:\n",
    "    for line in f:\n",
    "        data = line.strip().split()\n",
    "        \n",
    "        boundaries.InsertNextCell(len(data)-2)\n",
    "        for i in range(1,len(data)-1):\n",
    "             boundaries.InsertCellPoint( int(data[i])-1 )           "
   ]
  },
  {
   "cell_type": "code",
   "execution_count": 26,
   "metadata": {},
   "outputs": [],
   "source": [
    "print('Creating vtk array of boundary codes')\n",
    "\n",
    "arr = vtk.vtkShortArray()\n",
    "arr.SetName('Code')\n",
    "arr.SetNumberOfComponents(1)\n",
    "arr.SetNumberOfTuples(boundaries.GetNumberOfCells())\n",
    "\n",
    "vv  = codes.values\n",
    "\n",
    "for i in range(arr.GetNumberOfTuples()):\n",
    "    arr.SetTuple1(i, vv[i,1])"
   ]
  },
  {
   "cell_type": "code",
   "execution_count": 28,
   "metadata": {},
   "outputs": [
    {
     "data": {
      "text/plain": [
       "1"
      ]
     },
     "execution_count": 28,
     "metadata": {},
     "output_type": "execute_result"
    }
   ],
   "source": [
    "print('Saving  vtk boundary to ',vtk_boundary_file)\n",
    "\n",
    "pd = vtk.vtkPolyData()\n",
    "pd.SetPoints(pts)\n",
    "pd.SetPolys(boundaries)\n",
    "pd.GetCellData().AddArray(arr)\n",
    "\n",
    "wr = vtk.vtkPolyDataWriter()\n",
    "wr.SetFileName(vtk_boundary_file)\n",
    "wr.SetFileTypeToBinary()\n",
    "wr.SetInputData(pd)\n",
    "wr.Write()"
   ]
  },
  {
   "cell_type": "code",
   "execution_count": 19,
   "metadata": {},
   "outputs": [
    {
     "name": "stderr",
     "output_type": "stream",
     "text": [
      "100% (15209353 of 15209353) |############| Elapsed Time: 0:00:00 ETA:  00:00:00\n"
     ]
    }
   ],
   "source": [
    "print('Reading volumetric elments')\n",
    "\n",
    "#save the volumetric mesh to vtk\n",
    "#read the elments\n",
    "elements = vtk.vtkCellArray()\n",
    "types = []\n",
    "\n",
    "eltypes = {4:vtk.VTK_TETRA, 5:vtk.VTK_PYRAMID, 6: vtk.VTK_WEDGE, 8:vtk.VTK_HEXAHEDRON}\n",
    "\n",
    "statinfo = os.stat(elem_file)\n",
    "filesize = statinfo.st_size   \n",
    "    \n",
    "with progressbar.ProgressBar(max_value=filesize) as bar:\n",
    "    with open(elem_file,'r') as f:\n",
    "        for line in f:\n",
    "            pp = line.strip().split()\n",
    "            n = len(pp)-1 #1st is the id\n",
    "\n",
    "            types += [eltypes[n]]\n",
    "\n",
    "            elements.InsertNextCell(n)\n",
    "            for ptid in pp[1:]:\n",
    "                elements.InsertCellPoint(int(ptid)-1)\n",
    "            \n",
    "            "
   ]
  },
  {
   "cell_type": "code",
   "execution_count": 20,
   "metadata": {},
   "outputs": [],
   "source": [
    "ug = vtk.vtkUnstructuredGrid()\n",
    "ug.SetPoints(pts)\n",
    "ug.SetCells(types, elements)"
   ]
  },
  {
   "cell_type": "code",
   "execution_count": 22,
   "metadata": {},
   "outputs": [
    {
     "data": {
      "text/plain": [
       "1"
      ]
     },
     "execution_count": 22,
     "metadata": {},
     "output_type": "execute_result"
    }
   ],
   "source": [
    "print('Saving  vtk vol mesh ',vtk_volmesh_file)\n",
    "\n",
    "wr = vtk.vtkDataSetWriter()\n",
    "wr.SetFileName(vtk_volmesh_file)\n",
    "wr.SetInputData(ug)\n",
    "wr.SetFileTypeToBinary()\n",
    "wr.Write()"
   ]
  },
  {
   "cell_type": "code",
   "execution_count": null,
   "metadata": {},
   "outputs": [],
   "source": []
  },
  {
   "cell_type": "code",
   "execution_count": null,
   "metadata": {},
   "outputs": [],
   "source": []
  }
 ],
 "metadata": {
  "kernelspec": {
   "display_name": "Python 3",
   "language": "python",
   "name": "python3"
  },
  "language_info": {
   "codemirror_mode": {
    "name": "ipython",
    "version": 3
   },
   "file_extension": ".py",
   "mimetype": "text/x-python",
   "name": "python",
   "nbconvert_exporter": "python",
   "pygments_lexer": "ipython3",
   "version": "3.6.5"
  }
 },
 "nbformat": 4,
 "nbformat_minor": 2
}
