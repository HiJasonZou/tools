{
 "cells": [
  {
   "cell_type": "code",
   "execution_count": 120,
   "metadata": {},
   "outputs": [],
   "source": [
    "import vtk\n",
    "import numpy  as np\n",
    "\n",
    "input_mesh = 'patch.vtk'\n",
    "output_mesh = 'patch_regions.vtk'\n",
    "line_textfile = 'line2.txt' \n",
    "array_name = 'Regions'\n",
    "\n",
    "#The line is specified by ordered line points\n",
    "#for example 0 2 3 4 0 -- connected line passing through the points 0 2 3 4 0 in that order "
   ]
  },
  {
   "cell_type": "code",
   "execution_count": 121,
   "metadata": {},
   "outputs": [],
   "source": [
    "rd = vtk.vtkPolyDataReader()\n",
    "rd.SetFileName(input_mesh)\n",
    "rd.Update()\n",
    "mesh = rd.GetOutput()"
   ]
  },
  {
   "cell_type": "code",
   "execution_count": 122,
   "metadata": {},
   "outputs": [],
   "source": [
    "#line points have to be ordered\n",
    "line = np.loadtxt(line_textfile,dtype=int)\n",
    "#line"
   ]
  },
  {
   "cell_type": "code",
   "execution_count": null,
   "metadata": {},
   "outputs": [],
   "source": []
  },
  {
   "cell_type": "code",
   "execution_count": 123,
   "metadata": {},
   "outputs": [],
   "source": [
    "#extract connectivity\n",
    "tri = np.zeros([mesh.GetNumberOfCells(),3], dtype=np.int64)\n",
    "\n",
    "for i in range(tri.shape[0]):\n",
    "    ids = mesh.GetCell(i).GetPointIds()\n",
    "    for j in range(3): \n",
    "        tri[i,j] = ids.GetId(j)"
   ]
  },
  {
   "cell_type": "code",
   "execution_count": 124,
   "metadata": {},
   "outputs": [],
   "source": [
    "def find_triangles(p1_id, p2_id, tri):\n",
    "    tt = (tri-p1_id) * (tri-p2_id)\n",
    "    \n",
    "    return np.where((tt==0).sum(axis=1)==2)[0]\n",
    "\n",
    "def find_triangle_point_loc(p1_id, p2_id, tri):\n",
    "    p1_loc = np.where((tri-p1_id)==0)\n",
    "    p2_loc = np.where((tri-p2_id)==0)\n",
    "    return [p1_loc[0][0], p2_loc[0][0]]\n",
    "\n",
    "def find_celledge_neighbors(tri_id, tri):\n",
    "    (p1_id, p2_id, p3_id) = tri[tri_id,:]\n",
    "    t1 = find_triangles(p1_id, p2_id, tri)\n",
    "    t2 = find_triangles(p1_id, p3_id, tri)\n",
    "    t3 = find_triangles(p2_id, p3_id, tri)\n",
    "    t = ( set(t1).union(set(t2)).union(set(t3)) ) -{tri_id}\n",
    "    \n",
    "    return list(t)\n",
    "\n",
    "def triangle_common_edge(tri1, tri2):\n",
    "    common_pts = set(tri1).intersection(set(tri2))\n",
    "    if len(common_pts)<2:\n",
    "        return {}\n",
    "    else:\n",
    "        return common_pts\n",
    "\n",
    "def triangles_on_line(t1, t2, tri, line):\n",
    "    edge = triangle_common_edge(tri[t1,:], tri[t2,:]);\n",
    "    \n",
    "    on_line = False;\n",
    "    \n",
    "    for i in range(line.shape[0]-1):\n",
    "        segm = {line[i], line[i+1]}\n",
    "        if len(segm-edge)==0:\n",
    "            on_line = True\n",
    "            break\n",
    "            \n",
    "    return on_line\n",
    "        "
   ]
  },
  {
   "cell_type": "code",
   "execution_count": 125,
   "metadata": {},
   "outputs": [],
   "source": [
    "trilabel = np.zeros(mesh.GetNumberOfCells(), dtype=np.int64)\n",
    "\n",
    "\n",
    "region_id = 0\n",
    "for i in range(mesh.GetNumberOfCells()):\n",
    "    if trilabel[i]==0:\n",
    "        tri_stack = [i]  #traingles to process\n",
    "        region_id = region_id+1\n",
    "    \n",
    "        while tri_stack: #whle not empty\n",
    "            tri_id = tri_stack.pop()\n",
    "            #print('Triangle ', tri_id)\n",
    "\n",
    "            if(trilabel[tri_id]==0): #if not labeled yet\n",
    "                trilabel[tri_id]=region_id\n",
    "                neighb = find_celledge_neighbors(tri_id, tri)\n",
    "\n",
    "                #print('Neighbors ', neighb)\n",
    "\n",
    "                for j in range( len(neighb) ):\n",
    "                    if trilabel[neighb[j]]==0:\n",
    "                        #see if the triangles tri_id and neighb[j] are on the different sides of the line\n",
    "                        #i.e. if they share any pair of points of the line\n",
    "                        if not triangles_on_line(tri_id, neighb[j], tri, line):\n",
    "                            tri_stack.append(neighb[j])"
   ]
  },
  {
   "cell_type": "code",
   "execution_count": 126,
   "metadata": {},
   "outputs": [
    {
     "data": {
      "text/plain": [
       "1"
      ]
     },
     "execution_count": 126,
     "metadata": {},
     "output_type": "execute_result"
    }
   ],
   "source": [
    "array = vtk.vtkIdTypeArray()\n",
    "array.SetName(array_name)\n",
    "array.SetNumberOfComponents(1)\n",
    "array.SetNumberOfTuples(trilabel.shape[0])\n",
    "\n",
    "for i in range(trilabel.shape[0]):\n",
    "    array.SetTuple1(i, trilabel[i])\n",
    "    \n",
    "mesh.GetCellData().AddArray(array)\n",
    "\n",
    "wr = vtk.vtkPolyDataWriter()\n",
    "wr.SetFileName(output_mesh)\n",
    "wr.SetInputData(mesh)\n",
    "wr.Write()"
   ]
  },
  {
   "cell_type": "code",
   "execution_count": null,
   "metadata": {},
   "outputs": [],
   "source": []
  }
 ],
 "metadata": {
  "kernelspec": {
   "display_name": "Python 3",
   "language": "python",
   "name": "python3"
  },
  "language_info": {
   "codemirror_mode": {
    "name": "ipython",
    "version": 3
   },
   "file_extension": ".py",
   "mimetype": "text/x-python",
   "name": "python",
   "nbconvert_exporter": "python",
   "pygments_lexer": "ipython3",
   "version": "3.6.4"
  }
 },
 "nbformat": 4,
 "nbformat_minor": 2
}
