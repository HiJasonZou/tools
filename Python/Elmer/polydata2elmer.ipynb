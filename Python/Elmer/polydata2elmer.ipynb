{
 "cells": [
  {
   "cell_type": "code",
   "execution_count": 15,
   "metadata": {},
   "outputs": [],
   "source": [
    "import vtk"
   ]
  },
  {
   "cell_type": "code",
   "execution_count": 16,
   "metadata": {},
   "outputs": [],
   "source": [
    "rd = vtk.vtkPolyDataReader()\n",
    "rd.SetFileName('la.vtk')\n",
    "rd.Update()\n",
    "mesh = rd.GetOutput()"
   ]
  },
  {
   "cell_type": "code",
   "execution_count": 17,
   "metadata": {},
   "outputs": [],
   "source": [
    "#Setup longitudinal problem\n",
    "fe = vtk.vtkFeatureEdges()\n",
    "fe.SetInputData(mesh)\n",
    "fe.FeatureEdgesOff()\n",
    "fe.BoundaryEdgesOn()\n",
    "fe.NonManifoldEdgesOff()\n",
    "fe.ManifoldEdgesOff()\n",
    "fe.Update()\n",
    "\n",
    "lines = fe.GetOutput()"
   ]
  },
  {
   "cell_type": "code",
   "execution_count": null,
   "metadata": {},
   "outputs": [],
   "source": []
  },
  {
   "cell_type": "code",
   "execution_count": 18,
   "metadata": {},
   "outputs": [],
   "source": [
    "with open('mesh.header','w') as f:\n",
    "    f.write(f'{mesh.GetNumberOfPoints()} {mesh.GetNumberOfCells()} {lines.GetNumberOfCells()+15}\\n')\n",
    "    f.write('2\\n')\n",
    "    f.write(f'303 {mesh.GetNumberOfCells()}\\n')\n",
    "    f.write(f'202 {lines.GetNumberOfCells()+15}\\n')\n",
    "    "
   ]
  },
  {
   "cell_type": "markdown",
   "metadata": {},
   "source": [
    "der file mesh.header tells h\n",
    "(303) - triangle\n",
    "202 - line\n",
    "101 - point\n",
    "\n",
    "nodes elements boundary-elements\n",
    "nof_types\n",
    "type-code nof_elements\n",
    "type-code nof_elements\n",
    "...\n",
    "In the first line the numbers of nodes, elements, and boundary elements are given, while the count in the\n",
    "second line is the number of different element types used in the mesh. The lines which follow give the\n",
    "numbers of elements as sorted into different element types.\n",
    "For example, the following header file\n",
    "300 261 76\n",
    "2\n",
    "404 261\n",
    "202 76\n",
    "tells us that the mesh is composed of 300 nodes, 261 elements, and 76 boundary elements. Two different\n",
    "element types are used in the mesh: there are 261 elements of type code 404 (bilinear quadrilateral) and 76\n",
    "elements of type code 202 (linear line element)."
   ]
  },
  {
   "cell_type": "code",
   "execution_count": 19,
   "metadata": {},
   "outputs": [],
   "source": [
    "with open('mesh.nodes','w') as f:\n",
    "    for i in range(mesh.GetNumberOfPoints()):\n",
    "        pt = mesh.GetPoint(i)\n",
    "        f.write(f'{i+1} -1 {pt[0]} {pt[1]} {pt[2]}\\n')"
   ]
  },
  {
   "cell_type": "markdown",
   "metadata": {},
   "source": [
    "The file mesh.nodes contains node data so that each line defines one node. Each line starts with two\n",
    "integers followed by three real numbers:\n",
    "n1 -1 x y z\n",
    "n2 -1 x y z\n",
    "...\n",
    "nn -1 x y z"
   ]
  },
  {
   "cell_type": "code",
   "execution_count": 20,
   "metadata": {},
   "outputs": [],
   "source": [
    "with open('mesh.elements','w') as f:\n",
    "    for i in range(mesh.GetNumberOfCells()):\n",
    "        ids = mesh.GetCell(i).GetPointIds()\n",
    "        f.write(f'{i+1} 1 303 {ids.GetId(0)+1} {ids.GetId(1)+1} {ids.GetId(2)+1}\\n')"
   ]
  },
  {
   "cell_type": "markdown",
   "metadata": {},
   "source": [
    "The mesh.elements file contains element data arranged as\n",
    "e1 body type n1 ... nn\n",
    "e2 body type n1 ... nn\n",
    "...\n",
    "en body type n1 ... nn\n",
    "Each line starts with an integer which is used for identifying the element. The integer body defines the\n",
    "material body which this element is part of. Then the element type code and element nodes are listed. For\n",
    "example, the element file might start with the following lines:\n",
    "1 1 404 1 2 32 31\n",
    "2 1 404 2 3 33 32\n",
    "3 1 404 3 4 34 33\n",
    "4 1 404 4 5 35 34"
   ]
  },
  {
   "cell_type": "code",
   "execution_count": 21,
   "metadata": {},
   "outputs": [],
   "source": [
    "import numpy as np\n",
    "tri = np.zeros((mesh.GetNumberOfCells(),3))\n",
    "\n",
    "for i in range(mesh.GetNumberOfCells()):\n",
    "    for j in range(3):\n",
    "        tri[i,j] = mesh.GetCell(i).GetPointIds().GetId(j)"
   ]
  },
  {
   "cell_type": "code",
   "execution_count": 22,
   "metadata": {},
   "outputs": [],
   "source": [
    "def find_triangles(p1_id, p2_id, tri):\n",
    "    tt = (tri-p1_id) * (tri-p2_id)\n",
    "    \n",
    "    return np.where((tt==0).sum(axis=1)==2)[0]"
   ]
  },
  {
   "cell_type": "code",
   "execution_count": 23,
   "metadata": {},
   "outputs": [],
   "source": [
    "loc = vtk.vtkPointLocator()\n",
    "loc.SetDataSet(mesh)\n",
    "loc.BuildLocator()\n",
    "\n",
    "\n",
    "with open('mesh.boundary','w') as f:\n",
    "        #PVs\n",
    "        f.write(f'1 1 {5892+1} {5506+1} 202 {3743+1} {4890+1}\\n')\n",
    "        f.write(f'2 1 {5892+1} {5249+1} 202 {4890+1} {3938+1}\\n')        \n",
    "        f.write(f'3 1 {5892+1} {4613+1} 202 {3938+1} {3743+1}\\n')        \n",
    "        \n",
    "        f.write(f'1 2 {2921+1} {4299+1} 202 {3126+1} {2841+1}\\n')\n",
    "        f.write(f'2 2 {2921+1} {3222+1} 202 {2841+1} {3314+1}\\n')\n",
    "        f.write(f'3 2 {2921+1} {4636+1} 202 {3314+1} {3126+1}\\n')\n",
    "\n",
    "        f.write(f'1 3 {15798+1} {16976+1} 202 {8671+1} {8682+1}\\n')\n",
    "        f.write(f'2 3 {15798+1} {16258+1} 202 {8682+1} {8668+1}\\n')\n",
    "        f.write(f'3 3 {15798+1} {16260+1} 202 {8668+1} {8671+1}\\n')\n",
    "        \n",
    "        f.write(f'1 4 {17762+1} {17761+1} 202 {9125+1} {8928+1}\\n')\n",
    "        f.write(f'2 4 {17762+1} {18030+1} 202 {8928+1} {8855+1}\\n')\n",
    "        f.write(f'3 4 {17762+1} {18054+1} 202 {8855+1} {9125+1}\\n')\n",
    "        \n",
    "        #top point\n",
    "        f.write(f'1 5 {14435+1} {13498+1} 202 {7499+1} {5675+1}\\n')\n",
    "        f.write(f'2 5 {14435+1} {12061+1} 202 {5675+1} {7558+1}\\n')\n",
    "        f.write(f'3 5 {14435+1} {14611+1} 202 {7558+1} {7499+1}\\n')\n",
    "\n",
    "        #MV\n",
    "        for i in range(lines.GetNumberOfCells()):\n",
    "            ids = lines.GetCell(i).GetPointIds() \n",
    "            id1 = loc.FindClosestPoint(lines.GetPoint(ids.GetId(0)))\n",
    "            id2 = loc.FindClosestPoint(lines.GetPoint(ids.GetId(1)))\n",
    "            cellids = find_triangles(id1, id2, tri)\n",
    "            f.write(f'{i+1} 6 {cellids[0]+1} 0 202 {id1+1} {id2+1}\\n')\n",
    "            "
   ]
  },
  {
   "cell_type": "markdown",
   "metadata": {},
   "source": [
    "The elements that form the boundary are listed in the file mesh.boundary. This file is similar to the\n",
    "mesh.elements file and is organized as\n",
    "e1 bndry p1 p2 type n1 ... nn\n",
    "e2 bndry p1 p2 type n1 ... nn\n",
    "...\n",
    "en bndry p1 p2 type n1 ... nn\n",
    "The first integer is again the identification number of the boundary element. Next the identification number\n",
    "of the part of the boundary where this element is located is given. Whether the boundary element can be\n",
    "represented as the side of a parent element defined in the file mesh.elements is indicated using the two\n",
    "parent element numbers p1 and p2. If the boundary element is located on an outer boundary of the body,\n",
    "it has only one parent element and either of these two integers may be set to be zero. It is also possible that\n",
    "both parent element numbers are zeros. Finally the element type code and element nodes are listed."
   ]
  },
  {
   "cell_type": "code",
   "execution_count": null,
   "metadata": {},
   "outputs": [],
   "source": []
  },
  {
   "cell_type": "code",
   "execution_count": null,
   "metadata": {},
   "outputs": [],
   "source": []
  },
  {
   "cell_type": "code",
   "execution_count": null,
   "metadata": {},
   "outputs": [],
   "source": []
  },
  {
   "cell_type": "code",
   "execution_count": null,
   "metadata": {},
   "outputs": [],
   "source": []
  }
 ],
 "metadata": {
  "kernelspec": {
   "display_name": "Python 3",
   "language": "python",
   "name": "python3"
  },
  "language_info": {
   "codemirror_mode": {
    "name": "ipython",
    "version": 3
   },
   "file_extension": ".py",
   "mimetype": "text/x-python",
   "name": "python",
   "nbconvert_exporter": "python",
   "pygments_lexer": "ipython3",
   "version": "3.6.4"
  }
 },
 "nbformat": 4,
 "nbformat_minor": 2
}
