{
 "cells": [
  {
   "cell_type": "code",
   "execution_count": 17,
   "metadata": {},
   "outputs": [],
   "source": [
    "import vtk\n",
    "import numpy as np\n",
    "from progressbar import progressbar, ProgressBar"
   ]
  },
  {
   "cell_type": "code",
   "execution_count": 3,
   "metadata": {},
   "outputs": [],
   "source": [
    "grdfile = 'tube-validation/fensap.grd'\n",
    "vtkfile = 'jefftube-vol.vtk'"
   ]
  },
  {
   "cell_type": "code",
   "execution_count": 24,
   "metadata": {},
   "outputs": [
    {
     "name": "stderr",
     "output_type": "stream",
     "text": [
      "100% (340936 of 340936) |################| Elapsed Time: 0:00:00 Time:  0:00:00\n",
      "100% (1193867 of 1193867) |##############| Elapsed Time: 0:00:03 Time:  0:00:03\n"
     ]
    }
   ],
   "source": [
    "with open(grdfile,'r') as f:\n",
    "    line = f.readline().split()\n",
    "    npoints = int(line[0])\n",
    "    \n",
    "    line = f.readline().split()\n",
    "    nelement_types = int(line[0])\n",
    "    \n",
    "    nelements = 0\n",
    "    for k in range(nelement_types):\n",
    "        line = f.readline().split()\n",
    "        nelements = nelements + int(line[1])\n",
    "        \n",
    "    f.readline()  #1.0 1.0\n",
    "    f.readline()  #fensap input file\n",
    "    \n",
    "\n",
    "    \n",
    "    pts = vtk.vtkPoints()\n",
    "    pts.SetNumberOfPoints(npoints)\n",
    "    for i in progressbar(range(npoints)):\n",
    "        line = f.readline().split()\n",
    "        pts.SetPoint(i, float(line[0]), float(line[1]), float(line[2]))\n",
    "        \n",
    "    cells = vtk.vtkCellArray()\n",
    "    celltypes = []\n",
    "    c = 0\n",
    "    with ProgressBar(max_value=nelements) as bar:    \n",
    "        while True:\n",
    "            line = f.readline()\n",
    "            if line=='':\n",
    "                break\n",
    "\n",
    "            line = line.split()\n",
    "\n",
    "            nverts = len(line)\n",
    "            \n",
    "            cells.InsertNextCell( nverts )\n",
    "            for k in line:\n",
    "                cells.InsertCellPoint( int(k)-1 )\n",
    "\n",
    "            if nverts == 4:\n",
    "                celltypes.append(vtk.VTK_TETRA)\n",
    "            elif nverts == 8:\n",
    "                celltypes.append(vtk.VTK_HEXAHEDRON)\n",
    "            elif nverts == 6:\n",
    "                celltypes.append(vtk.VTK_WEDGE)\n",
    "            elif nverts == 5:\n",
    "                celltypes.append(vtk.VTK_PYRAMID)\n",
    "            elif nverts == 10:\n",
    "                celltypes.append(vtk.VTK_PENTAGONAL_PRISM)\n",
    "            elif nverts == 12:\n",
    "                celltypes.append(vtk.VTK_HEXAGONAL_PRISM)\n",
    "            else:\n",
    "                print('Unknown cell type:', line)\n",
    "            \n",
    "                \n",
    "            c=c+1\n",
    "            bar.update(c)\n",
    "        "
   ]
  },
  {
   "cell_type": "code",
   "execution_count": 25,
   "metadata": {},
   "outputs": [],
   "source": [
    "ug = vtk.vtkUnstructuredGrid()\n",
    "ug.SetPoints(pts)\n",
    "ug.SetCells(celltypes, cells)"
   ]
  },
  {
   "cell_type": "code",
   "execution_count": 26,
   "metadata": {},
   "outputs": [
    {
     "data": {
      "text/plain": [
       "1"
      ]
     },
     "execution_count": 26,
     "metadata": {},
     "output_type": "execute_result"
    }
   ],
   "source": [
    "wr = vtk.vtkDataSetWriter()\n",
    "wr.SetFileName(vtkfile)\n",
    "wr.SetInputData(ug)\n",
    "wr.SetFileTypeToBinary()\n",
    "wr.Write()"
   ]
  },
  {
   "cell_type": "code",
   "execution_count": 20,
   "metadata": {},
   "outputs": [
    {
     "data": {
      "text/plain": [
       "3"
      ]
     },
     "execution_count": 20,
     "metadata": {},
     "output_type": "execute_result"
    }
   ],
   "source": [
    "nelement_types"
   ]
  },
  {
   "cell_type": "code",
   "execution_count": null,
   "metadata": {},
   "outputs": [],
   "source": []
  }
 ],
 "metadata": {
  "kernelspec": {
   "display_name": "Python 3",
   "language": "python",
   "name": "python3"
  },
  "language_info": {
   "codemirror_mode": {
    "name": "ipython",
    "version": 3
   },
   "file_extension": ".py",
   "mimetype": "text/x-python",
   "name": "python",
   "nbconvert_exporter": "python",
   "pygments_lexer": "ipython3",
   "version": "3.6.5"
  }
 },
 "nbformat": 4,
 "nbformat_minor": 2
}
