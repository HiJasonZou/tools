{
 "cells": [
  {
   "cell_type": "code",
   "execution_count": 15,
   "metadata": {},
   "outputs": [],
   "source": [
    "show_flat = False\n",
    "\n",
    "\n",
    "def close_window(iren):\n",
    "    render_window = iren.GetRenderWindow()\n",
    "    render_window.Finalize()\n",
    "    iren.TerminateApp()\n",
    "\n",
    "import vtk\n",
    "import numpy as np\n",
    "    \n",
    "jPEGReader = vtk.vtkJPEGReader()\n",
    "jPEGReader.SetFileName ( 'texture.jpg' );\n",
    " \n",
    "\n",
    "pdr = vtk.vtkPolyDataReader()\n",
    "pdr.SetFileName('disk_endo.vtk')\n",
    "pdr.Update()\n",
    "quad = pdr.GetOutput()\n",
    "    \n",
    "pdr1 = vtk.vtkPolyDataReader()\n",
    "pdr1.SetFileName('endo1_new.vtk')\n",
    "pdr1.Update()\n",
    "deformed_mesh = pdr1.GetOutput()\n",
    "    \n",
    "#points = vtk.vtkPoints();\n",
    "#points.InsertNextPoint(0.0, 0.0, 0.0);\n",
    "#points.InsertNextPoint(1.0, 0.0, 0.0);\n",
    "#points.InsertNextPoint(1.0, 1.0, 0.0);\n",
    "#points.InsertNextPoint(0.0, 1.0, 0.0);\n",
    " \n",
    "#polygons = vtk.vtkCellArray();\n",
    "#polygon = vtk.vtkPolygon();\n",
    "#polygon.GetPointIds().SetNumberOfIds(4); \n",
    "#polygon.GetPointIds().SetId(0, 0);\n",
    "#polygon.GetPointIds().SetId(1, 1);\n",
    "#polygon.GetPointIds().SetId(2, 2);\n",
    "#polygon.GetPointIds().SetId(3, 3);\n",
    " \n",
    "#polygons.InsertNextCell(polygon);\n",
    " \n",
    "#quad = vtk.vtkPolyData();\n",
    "#quad.SetPoints(points);\n",
    "#quad.SetPolys(polygons);\n",
    " \n",
    "textureCoordinates = vtk.vtkFloatArray();\n",
    "textureCoordinates.SetNumberOfComponents(2);\n",
    "textureCoordinates.SetName(\"TextureCoordinates\");\n",
    "textureCoordinates.SetNumberOfTuples(quad.GetNumberOfPoints())\n",
    "    \n",
    "for i in range(quad.GetNumberOfPoints()):\n",
    "    pt = np.array(quad.GetPoint(i))\n",
    "    pt = (pt+1)/2\n",
    "    textureCoordinates.SetTuple(i, [pt[0], pt[1]])\n",
    "    \n",
    "#textureCoordinates.InsertNextTuple([0.0, 0.0]);\n",
    "#textureCoordinates.InsertNextTuple([1.0, 0.0]);\n",
    "#textureCoordinates.InsertNextTuple([1.0, 1.0]);\n",
    "#textureCoordinates.InsertNextTuple([0.0, 1.0]);\n",
    "\n",
    "quad.GetPointData().SetTCoords(textureCoordinates);\n",
    "deformed_mesh.GetPointData().SetTCoords(textureCoordinates);\n",
    " \n",
    "texture = vtk.vtkTexture();\n",
    "texture.SetInputConnection(jPEGReader.GetOutputPort());\n",
    " \n",
    "mapper = vtk.vtkPolyDataMapper();\n",
    "\n",
    "if show_flat:\n",
    "    mapper.SetInputData(quad);\n",
    "else:\n",
    "    mapper.SetInputData(deformed_mesh);\n",
    " \n",
    "texturedQuad = vtk.vtkActor();\n",
    "texturedQuad.SetMapper(mapper);\n",
    "texturedQuad.SetTexture(texture);\n",
    " \n",
    "renderer = vtk.vtkRenderer();\n",
    "renderer.AddActor(texturedQuad);\n",
    "renderer.SetBackground(1,1,1); \n",
    "renderer.ResetCamera();\n",
    " \n",
    "renderWindow = vtk.vtkRenderWindow();\n",
    "renderWindow.AddRenderer(renderer);\n",
    " \n",
    "renderWindowInteractor = vtk.vtkRenderWindowInteractor();\n",
    "renderWindowInteractor.SetRenderWindow(renderWindow);\n",
    " \n",
    "renderWindow.Render();\n",
    " \n",
    "renderWindowInteractor.Start();\n",
    "\n",
    "close_window(renderWindowInteractor)\n",
    "del renderWindow, renderWindowInteractor"
   ]
  },
  {
   "cell_type": "code",
   "execution_count": 9,
   "metadata": {},
   "outputs": [
    {
     "data": {
      "text/plain": [
       "0"
      ]
     },
     "execution_count": 9,
     "metadata": {},
     "output_type": "execute_result"
    }
   ],
   "source": [
    "deformed_mesh.GetNumberOfPoints()"
   ]
  },
  {
   "cell_type": "code",
   "execution_count": null,
   "metadata": {},
   "outputs": [],
   "source": []
  }
 ],
 "metadata": {
  "kernelspec": {
   "display_name": "Python 3",
   "language": "python",
   "name": "python3"
  },
  "language_info": {
   "codemirror_mode": {
    "name": "ipython",
    "version": 3
   },
   "file_extension": ".py",
   "mimetype": "text/x-python",
   "name": "python",
   "nbconvert_exporter": "python",
   "pygments_lexer": "ipython3",
   "version": "3.6.5"
  }
 },
 "nbformat": 4,
 "nbformat_minor": 2
}
